{
 "cells": [
  {
   "cell_type": "markdown",
   "metadata": {},
   "source": [
    "# Pathways Toy Latency Analysis\n",
    "\n",
    "Pathways is a commercial incremental dataflow tool. You specify a series of transformations as a graph and connect up a source and a sink. If the souce and the sink support streaming, e.g. files, Kafka queues, etc, then transformations are computed incrementally. It is also possible to run the graph in a batch mode for historical data. \n",
    "\n",
    "The compute engine of the library is written in Rust accessed via a Python API, which is a common architecture for Python libraries. Using Rust allows for fast computation in the critical path, and the usability of Python where speed is not necessary.\n",
    "\n",
    "We have built a toy example that aggregates ticks across one second tumbling windows to test the latency cost of using Pathways. We use a Kafka queue to communicate between two Python process. The first process, called `tick_generator.py` generates ticks and places them on the Kafka queue with the topic 'ticks'. The second process in `agg_pw.py` is a Pathways dataflow which consumes the tick, aggregates it across a window, and submits the aggregation back onto the queue under the topic 'aggregations'. The first Python process polls for aggregation updates, and computes latency as the difference between the current time and the end of the window.\n",
    "\n",
    "Aggregates are emitted for each tick received, which means Pathways will send an aggregate even if the window has not closed. If multiple ticks are received in a window then downstream components will receive multiple aggregations for the same window. It is up to downstream components to decide whether to act on the the update. For windowed aggregations Pathways allows the user to configure a cutoff where stats for the window are purged and any further ticks that fall in that window are ignored. Due to the incremental nature of Pathways will emit an update when it executes the cutoff.\n"
   ]
  },
  {
   "cell_type": "code",
   "execution_count": 2,
   "metadata": {},
   "outputs": [],
   "source": [
    "import polars as pl\n",
    "import seaborn as sns\n",
    "import matplotlib.pyplot as plt\n",
    "import numpy as np"
   ]
  },
  {
   "cell_type": "code",
   "execution_count": 3,
   "metadata": {},
   "outputs": [
    {
     "data": {
      "image/png": "[encoded data removed]",
      "text/plain": [
       "<Figure size 640x480 with 1 Axes>"
      ]
     },
     "metadata": {},
     "output_type": "display_data"
    }
   ],
   "source": [
    "df = pl.read_ndjson(\"latency_pw.ndjson\")\n",
    "df = df.filter(pl.col(\"delay\") < 10000)  # Remove all the updates due to cutoffs\n",
    "df.describe()\n",
    "sns.histplot(df, x=\"delay\")\n",
    "plt.xlabel(\"Delay (ms)\")\n",
    "plt.xticks(np.arange(-1000, 250, step=100))\n",
    "plt.show()"
   ]
  },
  {
   "cell_type": "code",
   "execution_count": 5,
   "metadata": {},
   "outputs": [
    {
     "data": {
      "text/html": [
       "<div><style>\n",
       ".dataframe > thead > tr,\n",
       ".dataframe > tbody > tr {\n",
       "  text-align: right;\n",
       "  white-space: pre-wrap;\n",
       "}\n",
       "</style>\n",
       "<small>shape: (4, 5)</small><table border=\"1\" class=\"dataframe\"><thead><tr><th>symbol</th><th>delay</th><th>window_end</th><th>sum</th><th>count</th></tr><tr><td>str</td><td>f64</td><td>str</td><td>f64</td><td>f64</td></tr></thead><tbody><tr><td>&quot;c&quot;</td><td>238.24</td><td>&quot;2024-12-26T20:52:31+00:00&quot;</td><td>2128.82</td><td>2.0</td></tr><tr><td>&quot;e&quot;</td><td>241.327</td><td>&quot;2024-12-26T20:52:31+00:00&quot;</td><td>2012.14</td><td>3.0</td></tr><tr><td>&quot;b&quot;</td><td>241.474</td><td>&quot;2024-12-26T20:52:31+00:00&quot;</td><td>2997.31</td><td>4.0</td></tr><tr><td>&quot;a&quot;</td><td>242.449</td><td>&quot;2024-12-26T20:52:31+00:00&quot;</td><td>140.11</td><td>1.0</td></tr></tbody></table></div>"
      ],
      "text/plain": [
       "shape: (4, 5)\n",
       "┌────────┬─────────┬───────────────────────────┬─────────┬───────┐\n",
       "│ symbol ┆ delay   ┆ window_end                ┆ sum     ┆ count │\n",
       "│ ---    ┆ ---     ┆ ---                       ┆ ---     ┆ ---   │\n",
       "│ str    ┆ f64     ┆ str                       ┆ f64     ┆ f64   │\n",
       "╞════════╪═════════╪═══════════════════════════╪═════════╪═══════╡\n",
       "│ c      ┆ 238.24  ┆ 2024-12-26T20:52:31+00:00 ┆ 2128.82 ┆ 2.0   │\n",
       "│ e      ┆ 241.327 ┆ 2024-12-26T20:52:31+00:00 ┆ 2012.14 ┆ 3.0   │\n",
       "│ b      ┆ 241.474 ┆ 2024-12-26T20:52:31+00:00 ┆ 2997.31 ┆ 4.0   │\n",
       "│ a      ┆ 242.449 ┆ 2024-12-26T20:52:31+00:00 ┆ 140.11  ┆ 1.0   │\n",
       "└────────┴─────────┴───────────────────────────┴─────────┴───────┘"
      ]
     },
     "execution_count": 5,
     "metadata": {},
     "output_type": "execute_result"
    }
   ],
   "source": [
    "df.filter(pl.col(\"delay\") > 100)"
   ]
  },
  {
   "cell_type": "markdown",
   "metadata": {},
   "source": [
    "The negative delays are from Pathways sending updates before the window is closed. The vast majority of messages arrive < 50ms from the closure of the window, yielding a large compute budget for alpha computation. There are 4 outliers where the delay > 200ms for the same window.\n",
    "\n",
    "The delays could be due to the Pathways compute engine, the Kafka queue, or the interaction between the two. No tuning of config was attempted for this toy, and it might be possible to reduce the number of outliers and latency time overall."
   ]
  }
 ],
 "metadata": {
  "kernelspec": {
   "display_name": "Python 3",
   "language": "python",
   "name": "python3"
  },
  "language_info": {
   "codemirror_mode": {
    "name": "ipython",
    "version": 3
   },
   "file_extension": ".py",
   "mimetype": "text/x-python",
   "name": "python",
   "nbconvert_exporter": "python",
   "pygments_lexer": "ipython3",
   "version": "3.11.11"
  }
 },
 "nbformat": 4,
 "nbformat_minor": 2
}
